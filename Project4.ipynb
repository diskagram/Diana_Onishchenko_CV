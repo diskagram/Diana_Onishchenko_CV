{
  "cells":[
    {
      "cell_type":"markdown",
      "source":[
        "![title](attachment:.\/title.png)"
      ],
      "attachments":{
        
      },
      "metadata":{
        "datalore":{
          "sheet_delimiter":false
        }
      }
    },
    {
      "cell_type":"markdown",
      "source":[
        "## Завдання\n",
        "\n",
        "1. Взяти файл з даними у вiдповiдностi з варiантом.\n",
        "\n",
        "2. Побудувати частi набори та асоцiативнi правила (АП), використовуючи алгоритм Apriori. Дослiдити множини АП залежно вiд параметрiв побудови АП:\n",
        "\n",
        "* мiнiмальної пiдтримки,\n",
        "* мiнiмальної достовiрностi,\n",
        "* максимальної потужностi частих наборiв.\n",
        "\n",
        "\n",
        "Пiдiбрати значення параметрiв алгоритму Apriori, якi призводять до\n",
        "значущих АП. АП Rk вважати значущим, якщо покращення (improvement\n",
        "або лiфт (lift)): Improv(Rk) > 1.\n",
        "\n",
        "\n",
        "3. Побудувати частi набори та множину АП, використовуючи алгоритм FPросту.\n",
        "Дослiдити множини АП залежно вiд параметрiв побудови АП, якi\n",
        "було наведено вище для Apriori.\n",
        "\n",
        "Пiдiбрати значення параметрiв алгоритму FP-росту, якi призводять до\n",
        "значущих АП.\n",
        "\n",
        "4. Зробити висновки щодо впливу параметрiв алгоритмiв Apriori та FP-росту на знайденi множини АП.\n",
        "5. Знайти значення прогнозу на основi побудованої множини правил.\n",
        "6. Порiвняти результати, отриманi алгоритмами Apriori та FP-росту."
      ],
      "attachments":{
        
      },
      "metadata":{
        "datalore":{
          "sheet_delimiter":false
        }
      }
    },
    {
      "cell_type":"markdown",
      "source":[
        "#### 6 варіант\n",
        "\n",
        "Var_6_1000_Transactions"
      ],
      "attachments":{
        
      },
      "metadata":{
        "datalore":{
          "sheet_delimiter":false
        }
      }
    },
    {
      "cell_type":"markdown",
      "source":[
        "## Теория \n",
        "\n",
        "**Навчання асоціативним правилам або пошук асоціативних правил** - це метод навчання машин на базі правил виявлення зв'язків між змінними у великій базі даних. Метод пропонується для встановлення сильних правил, виявлених в базі даних за допомогою деяких вимірів зацікавленості. Цей заснований на правилах підхід генерує також нові правила в міру аналізу додаткових даних.\n",
        "\n",
        "Для відбору цікавих правил з множини усіх можливих правил, накладають обмеження на різні способи вимірювання значущості та інтересу. Найбільш відомими обмеженнями є мінімальні пороги підтримки та довіри. \n",
        "\n",
        "    Підтримка (англ. Support) вказує наскільки часто набір предметів з'являється у наборі даних. \n",
        "    Впевненість (англ. Confidence) вказує на те, як часто виконується правило. \n",
        "    Ліфт - співвідношення спостережуваної підтримки до очікуваного\n",
        "\n",
        "Якщо правило має ліфт 1, це означає, що ймовірності появи попередника та наступника є незалежними одна від одної. Коли дві події є незалежними одна від одної, то й не можна вивести правила за участю цих двох подій.\n",
        "\n",
        "Якщо ліфт > 1, це вказує на те, наскільки ці дві ситуації залежать одна від одної, і робить ці правила потенційно корисними для прогнозування таких послідовностей у майбутніх наборах даних.\n",
        "\n",
        "Якщо ліфт < 1, це вказує на те, що предмети замінюють один одного. Це означає, що наявність одного товару негативно впливає на наявність іншого товару, і навпаки.\n",
        "\n",
        "Значення ліфта полягає в тому, що він враховує як впевненість, так і весь набір даних.\n",
        "\n",
        "Асоціативні правила повинні відповідати мінімальній підтримці та мінімальній впевненості, які визначаються користувачем одночасно. Утворення асоціативних правил, зазвичай, поділяється на два окремих кроки:\n",
        "\n",
        "    Порогове значення мінімальної затребуваності використовується для знаходження всіх частот предметів у базі даних.\n",
        "    Обмеження на мінімальну впевненість застосовується до частот наборів предметів для утворення правил.\n",
        "    \n",
        "**Алгоритм Apriori**\n",
        "\n",
        "Алгоритм Apriori шукає асоціативні правила і використовується для великих баз даних. Алгоритм складається з 3-х кроків: \n",
        "    1.\tОб’єднання – перегляд бази даних та визначення частоти появи окремих товарів.\n",
        "    2.\tВідсічення – ті набори, що задовольняють параметр підтримки та достовірності , переходять на наступну ітерацію з двокомпонентними наборами.\n",
        "    3.\tПовтор – попередні 2 кроки повторюються для усіх наступних потужностей наборів, доки не отримаємо набори з вказаною потужністю.\n",
        "\n",
        "Дефолтні значення apriori(df, min_support=0.5, use_colnames=False, max_len=None, verbose=0, low_memory=False)\n",
        "\n",
        "**Параметри:**\n",
        "\n",
        "    min_support – число в проміжку [0,1] зі значенням мінімальної підходящої підтримки.\n",
        "    max_len – максимальна кількість елементів в наборі.\n",
        "\n",
        "Функція association_rules - створює правила DataFrame асоціацій, включаючи показники \"оцінка\", \"впевненість\" та \"підйом\" ('score', 'confidence', and 'lift').\n",
        "\n",
        "Дефолтні значення association_rules(df, metric='confidence', min_threshold=0.8, support_only=False)\n",
        "\n",
        "**Параметри:**\n",
        "\n",
        "    min_threshold – мінімальна  метрика, яка визначає чи є кандидат підходящим.\n",
        "\n",
        "**Алгоритм FP-growth** \n",
        "\n",
        "Алгоритм FP-growth використовується для знаходження повторюваних шаблонів. При першому проході алгоритм підраховує кількість зустрічі кожного елементу в об’єктах дата сету і відсортовує усі елементи в об’єктах у порядку спадання частоти появи. При другому проході будується FP-дерево шляхом вставки екземплярів. Далі проводиться процедура, що виявляє часто повторювані набори."
      ],
      "attachments":{
        
      },
      "metadata":{
        "datalore":{
          "sheet_delimiter":false
        }
      }
    },
    {
      "cell_type":"markdown",
      "source":[
        "### 1. Взяти файл з даними у вiдповiдностi з варiантом. "
      ],
      "attachments":{
        
      },
      "metadata":{
        "datalore":{
          "sheet_delimiter":false
        }
      }
    },
    {
      "cell_type":"code",
      "source":[
        "import pandas as pd\n",
        "import numpy as np\n",
        "import matplotlib.pyplot as plt\n",
        "from mlxtend.preprocessing import TransactionEncoder\n",
        "from pathlib import Path\n",
        "import csv"
      ],
      "execution_count":1,
      "outputs":[
        
      ],
      "metadata":{
        "datalore":{
          "sheet_delimiter":false
        }
      }
    },
    {
      "cell_type":"code",
      "source":[
        "#pip install mlxtend  "
      ],
      "execution_count":2,
      "outputs":[
        
      ],
      "metadata":{
        "datalore":{
          "sheet_delimiter":false
        }
      }
    },
    {
      "cell_type":"code",
      "source":[
        "data = pd.read_csv('Var_6_1000_Transactions.csv')\n",
        "data"
      ],
      "execution_count":3,
      "outputs":[
        {
          "data":{
            "text\/html":[
              "<div>\n",
              "<style scoped>\n",
              "    .dataframe tbody tr th:only-of-type {\n",
              "        vertical-align: middle;\n",
              "    }\n",
              "\n",
              "    .dataframe tbody tr th {\n",
              "        vertical-align: top;\n",
              "    }\n",
              "\n",
              "    .dataframe thead th {\n",
              "        text-align: right;\n",
              "    }\n",
              "<\/style>\n",
              "<table border=\"1\" class=\"dataframe\">\n",
              "  <thead>\n",
              "    <tr style=\"text-align: right;\">\n",
              "      <th><\/th>\n",
              "      <th>order_id<\/th>\n",
              "      <th>product_id<\/th>\n",
              "    <\/tr>\n",
              "  <\/thead>\n",
              "  <tbody>\n",
              "    <tr>\n",
              "      <th>0<\/th>\n",
              "      <td>2<\/td>\n",
              "      <td>33120<\/td>\n",
              "    <\/tr>\n",
              "    <tr>\n",
              "      <th>1<\/th>\n",
              "      <td>2<\/td>\n",
              "      <td>28985<\/td>\n",
              "    <\/tr>\n",
              "    <tr>\n",
              "      <th>2<\/th>\n",
              "      <td>2<\/td>\n",
              "      <td>9327<\/td>\n",
              "    <\/tr>\n",
              "    <tr>\n",
              "      <th>3<\/th>\n",
              "      <td>2<\/td>\n",
              "      <td>45918<\/td>\n",
              "    <\/tr>\n",
              "    <tr>\n",
              "      <th>4<\/th>\n",
              "      <td>2<\/td>\n",
              "      <td>30035<\/td>\n",
              "    <\/tr>\n",
              "    <tr>\n",
              "      <th>...<\/th>\n",
              "      <td>...<\/td>\n",
              "      <td>...<\/td>\n",
              "    <\/tr>\n",
              "    <tr>\n",
              "      <th>9715<\/th>\n",
              "      <td>1000<\/td>\n",
              "      <td>35951<\/td>\n",
              "    <\/tr>\n",
              "    <tr>\n",
              "      <th>9716<\/th>\n",
              "      <td>1000<\/td>\n",
              "      <td>3025<\/td>\n",
              "    <\/tr>\n",
              "    <tr>\n",
              "      <th>9717<\/th>\n",
              "      <td>1000<\/td>\n",
              "      <td>35734<\/td>\n",
              "    <\/tr>\n",
              "    <tr>\n",
              "      <th>9718<\/th>\n",
              "      <td>1000<\/td>\n",
              "      <td>26800<\/td>\n",
              "    <\/tr>\n",
              "    <tr>\n",
              "      <th>9719<\/th>\n",
              "      <td>1000<\/td>\n",
              "      <td>8981<\/td>\n",
              "    <\/tr>\n",
              "  <\/tbody>\n",
              "<\/table>\n",
              "<p>9720 rows × 2 columns<\/p>\n",
              "<\/div>"
            ]
          },
          "metadata":{
            
          },
          "output_type":"display_data"
        }
      ],
      "metadata":{
        "datalore":{
          "sheet_delimiter":false
        }
      }
    },
    {
      "cell_type":"markdown",
      "source":[
        "**Перетворення даних в бінарну таблицю**"
      ],
      "attachments":{
        
      },
      "metadata":{
        "datalore":{
          "sheet_delimiter":false
        }
      }
    },
    {
      "cell_type":"code",
      "source":[
        "def make_orders(id_order, id_item):\n",
        "    result = []\n",
        "    add = []\n",
        "    \n",
        "    curr_id = id_order[0]\n",
        "    for i in range(len(id_order)):\n",
        "        if id_order[i] == curr_id:\n",
        "            add.append(id_item[i])\n",
        "        else:\n",
        "            result.append(add)\n",
        "            add = []\n",
        "            curr_id = id_order[i]\n",
        "            add.append(id_item[i])\n",
        "    result.append(add)\n",
        "    return result"
      ],
      "execution_count":4,
      "outputs":[
        
      ],
      "metadata":{
        "datalore":{
          "sheet_delimiter":false
        }
      }
    },
    {
      "cell_type":"code",
      "source":[
        
      ],
      "execution_count":4,
      "outputs":[
        
      ],
      "metadata":{
        "datalore":{
          "sheet_delimiter":false
        }
      }
    },
    {
      "cell_type":"code",
      "source":[
        "orders = make_orders(list(data['order_id']), list(data['product_id']))\n",
        "print('Number of successful orders: ', len(set(data['order_id'])))\n",
        "\n",
        "print('Orders (5):\\n')\n",
        "for i in range(5):\n",
        "    print(i,':',orders[i])"
      ],
      "execution_count":5,
      "outputs":[
        {
          "name":"stdout",
          "text":[
            "Number of successful orders:  956\n",
            "Orders (5):\n",
            "\n",
            "0 : [33120, 28985, 9327, 45918, 30035, 17794, 40141, 1819, 43668]\n",
            "1 : [33754, 24838, 17704, 21903, 17668, 46667, 17461, 32665]\n",
            "2 : [46842, 26434, 39758, 27761, 10054, 21351, 22598, 34862, 40285, 17616, 25146, 32645, 41276]\n",
            "3 : [13176, 15005, 47329, 27966, 23909, 48370, 13245, 9633, 27360, 6348, 40878, 6184, 48002, 20914, 37011, 12962, 45698, 24773, 18569, 41176, 48366, 47209, 46522, 38693, 48825, 8479]\n",
            "4 : [40462, 15873, 41897]\n"
          ],
          "output_type":"stream"
        }
      ],
      "metadata":{
        "datalore":{
          "sheet_delimiter":false
        }
      }
    },
    {
      "cell_type":"code",
      "source":[
        "def encoding(orders):\n",
        "    encoder = TransactionEncoder()\n",
        "    data = encoder.fit(orders).transform(orders)\n",
        "    return pd.DataFrame(data, columns=encoder.columns_)"
      ],
      "execution_count":6,
      "outputs":[
        
      ],
      "metadata":{
        "datalore":{
          "sheet_delimiter":false
        }
      }
    },
    {
      "cell_type":"code",
      "source":[
        "data_frame = encoding(orders)\n",
        "data_frame.astype(\"int\")[0:5]"
      ],
      "execution_count":7,
      "outputs":[
        {
          "data":{
            "text\/html":[
              "<div>\n",
              "<style scoped>\n",
              "    .dataframe tbody tr th:only-of-type {\n",
              "        vertical-align: middle;\n",
              "    }\n",
              "\n",
              "    .dataframe tbody tr th {\n",
              "        vertical-align: top;\n",
              "    }\n",
              "\n",
              "    .dataframe thead th {\n",
              "        text-align: right;\n",
              "    }\n",
              "<\/style>\n",
              "<table border=\"1\" class=\"dataframe\">\n",
              "  <thead>\n",
              "    <tr style=\"text-align: right;\">\n",
              "      <th><\/th>\n",
              "      <th>23<\/th>\n",
              "      <th>27<\/th>\n",
              "      <th>28<\/th>\n",
              "      <th>34<\/th>\n",
              "      <th>45<\/th>\n",
              "      <th>54<\/th>\n",
              "      <th>79<\/th>\n",
              "      <th>86<\/th>\n",
              "      <th>95<\/th>\n",
              "      <th>129<\/th>\n",
              "      <th>...<\/th>\n",
              "      <th>49519<\/th>\n",
              "      <th>49520<\/th>\n",
              "      <th>49533<\/th>\n",
              "      <th>49588<\/th>\n",
              "      <th>49605<\/th>\n",
              "      <th>49610<\/th>\n",
              "      <th>49621<\/th>\n",
              "      <th>49628<\/th>\n",
              "      <th>49667<\/th>\n",
              "      <th>49683<\/th>\n",
              "    <\/tr>\n",
              "  <\/thead>\n",
              "  <tbody>\n",
              "    <tr>\n",
              "      <th>0<\/th>\n",
              "      <td>0<\/td>\n",
              "      <td>0<\/td>\n",
              "      <td>0<\/td>\n",
              "      <td>0<\/td>\n",
              "      <td>0<\/td>\n",
              "      <td>0<\/td>\n",
              "      <td>0<\/td>\n",
              "      <td>0<\/td>\n",
              "      <td>0<\/td>\n",
              "      <td>0<\/td>\n",
              "      <td>...<\/td>\n",
              "      <td>0<\/td>\n",
              "      <td>0<\/td>\n",
              "      <td>0<\/td>\n",
              "      <td>0<\/td>\n",
              "      <td>0<\/td>\n",
              "      <td>0<\/td>\n",
              "      <td>0<\/td>\n",
              "      <td>0<\/td>\n",
              "      <td>0<\/td>\n",
              "      <td>0<\/td>\n",
              "    <\/tr>\n",
              "    <tr>\n",
              "      <th>1<\/th>\n",
              "      <td>0<\/td>\n",
              "      <td>0<\/td>\n",
              "      <td>0<\/td>\n",
              "      <td>0<\/td>\n",
              "      <td>0<\/td>\n",
              "      <td>0<\/td>\n",
              "      <td>0<\/td>\n",
              "      <td>0<\/td>\n",
              "      <td>0<\/td>\n",
              "      <td>0<\/td>\n",
              "      <td>...<\/td>\n",
              "      <td>0<\/td>\n",
              "      <td>0<\/td>\n",
              "      <td>0<\/td>\n",
              "      <td>0<\/td>\n",
              "      <td>0<\/td>\n",
              "      <td>0<\/td>\n",
              "      <td>0<\/td>\n",
              "      <td>0<\/td>\n",
              "      <td>0<\/td>\n",
              "      <td>0<\/td>\n",
              "    <\/tr>\n",
              "    <tr>\n",
              "      <th>2<\/th>\n",
              "      <td>0<\/td>\n",
              "      <td>0<\/td>\n",
              "      <td>0<\/td>\n",
              "      <td>0<\/td>\n",
              "      <td>0<\/td>\n",
              "      <td>0<\/td>\n",
              "      <td>0<\/td>\n",
              "      <td>0<\/td>\n",
              "      <td>0<\/td>\n",
              "      <td>0<\/td>\n",
              "      <td>...<\/td>\n",
              "      <td>0<\/td>\n",
              "      <td>0<\/td>\n",
              "      <td>0<\/td>\n",
              "      <td>0<\/td>\n",
              "      <td>0<\/td>\n",
              "      <td>0<\/td>\n",
              "      <td>0<\/td>\n",
              "      <td>0<\/td>\n",
              "      <td>0<\/td>\n",
              "      <td>0<\/td>\n",
              "    <\/tr>\n",
              "    <tr>\n",
              "      <th>3<\/th>\n",
              "      <td>0<\/td>\n",
              "      <td>0<\/td>\n",
              "      <td>0<\/td>\n",
              "      <td>0<\/td>\n",
              "      <td>0<\/td>\n",
              "      <td>0<\/td>\n",
              "      <td>0<\/td>\n",
              "      <td>0<\/td>\n",
              "      <td>0<\/td>\n",
              "      <td>0<\/td>\n",
              "      <td>...<\/td>\n",
              "      <td>0<\/td>\n",
              "      <td>0<\/td>\n",
              "      <td>0<\/td>\n",
              "      <td>0<\/td>\n",
              "      <td>0<\/td>\n",
              "      <td>0<\/td>\n",
              "      <td>0<\/td>\n",
              "      <td>0<\/td>\n",
              "      <td>0<\/td>\n",
              "      <td>0<\/td>\n",
              "    <\/tr>\n",
              "    <tr>\n",
              "      <th>4<\/th>\n",
              "      <td>0<\/td>\n",
              "      <td>0<\/td>\n",
              "      <td>0<\/td>\n",
              "      <td>0<\/td>\n",
              "      <td>0<\/td>\n",
              "      <td>0<\/td>\n",
              "      <td>0<\/td>\n",
              "      <td>0<\/td>\n",
              "      <td>0<\/td>\n",
              "      <td>0<\/td>\n",
              "      <td>...<\/td>\n",
              "      <td>0<\/td>\n",
              "      <td>0<\/td>\n",
              "      <td>0<\/td>\n",
              "      <td>0<\/td>\n",
              "      <td>0<\/td>\n",
              "      <td>0<\/td>\n",
              "      <td>0<\/td>\n",
              "      <td>0<\/td>\n",
              "      <td>0<\/td>\n",
              "      <td>0<\/td>\n",
              "    <\/tr>\n",
              "  <\/tbody>\n",
              "<\/table>\n",
              "<p>5 rows × 4438 columns<\/p>\n",
              "<\/div>"
            ]
          },
          "metadata":{
            
          },
          "output_type":"display_data"
        }
      ],
      "metadata":{
        "datalore":{
          "sheet_delimiter":false
        }
      }
    },
    {
      "cell_type":"markdown",
      "source":[
        "### 2. Побудувати частi набори та асоцiативнi правила (АП), використовуючи алгоритм Apriori.\n",
        "### +3. Побудувати частi набори та множину АП, використовуючи алгоритм FP-росту.\n",
        "\n",
        "Дослiдити множини АП залежно вiд параметрiв побудови АП:\n",
        "\n",
        "* мiнiмальної пiдтримки,\n",
        "* мiнiмальної достовiрностi,\n",
        "* максимальної потужностi частих наборiв.\n",
        "\n",
        "Пiдiбрати значення параметрiв алгоритму Apriori, якi призводять до\n",
        "значущих АП."
      ],
      "attachments":{
        
      },
      "metadata":{
        "datalore":{
          "sheet_delimiter":false
        }
      }
    },
    {
      "cell_type":"markdown",
      "source":[
        "Раніше проводила дослідження залежності min lift від max_len, цей параметр мало змінюється на кожній ітерації, тому дослідемо залежність min confidence від max_len"
      ],
      "attachments":{
        
      },
      "metadata":{
        "datalore":{
          "sheet_delimiter":false
        }
      }
    },
    {
      "cell_type":"code",
      "source":[
        "from mlxtend.frequent_patterns import apriori, association_rules, fpgrowth"
      ],
      "execution_count":8,
      "outputs":[
        
      ],
      "metadata":{
        "datalore":{
          "sheet_delimiter":false
        }
      }
    },
    {
      "cell_type":"code",
      "source":[
        "def rules_support_plot(num_rules, metric_name, metric_values, confs):\n",
        "    fig, (ax1, ax2) = plt.subplots(1, 2, figsize=(15, 4))\n",
        "    \n",
        "    ax1.plot(metric_values, num_rules)\n",
        "    ax1.set_xlabel(metric_name)\n",
        "    ax1.set_ylabel('number of rules')\n",
        "    \n",
        "    ax2.plot(metric_values, confs)\n",
        "    ax2.set_xlabel(metric_name)\n",
        "    ax2.set_ylabel('max confidence')\n",
        "    \n",
        "    plt.show()"
      ],
      "execution_count":9,
      "outputs":[
        
      ],
      "metadata":{
        "datalore":{
          "sheet_delimiter":false
        }
      }
    },
    {
      "cell_type":"code",
      "source":[
        "def analyze_support_lenght(df, algorithm):\n",
        "    max_confs1 = []\n",
        "    n_rules1 = []\n",
        "    supports = [0.003+i*10**(-3) for i in range(6)]\n",
        "    length = [ 2, 3, 4]\n",
        "    \n",
        "    for support in supports:\n",
        "        print('min_support: ', support)\n",
        "        \n",
        "        rules = association_rules(algorithm(df, min_support=support), metric='confidence', min_threshold=0.5)\n",
        "        #print(rules[['antecedents', 'consequents', 'support', 'confidence', 'lift']])\n",
        "        \n",
        "        n_rules1.append(len(rules.index))\n",
        "        max_confs1.append(max(list(rules['confidence'])))\n",
        "        \n",
        "        n_rules2 = []\n",
        "        max_confs2 = []\n",
        "        \n",
        "        for lng in length:\n",
        "            \n",
        "            rules = association_rules(algorithm(df, min_support=support, max_len = lng), metric='confidence', min_threshold=0.5)\n",
        "            n_rules2.append(len(rules.index))\n",
        "            if(len(list(rules['confidence']))):\n",
        "                max_confs2.append(max(list(rules['confidence'])))\n",
        "            else:\n",
        "                max_confs2.append(0.0)\n",
        "        \n",
        "        rules_support_plot(n_rules2, 'max_len', length, max_confs2)\n",
        "          \n",
        "    rules_support_plot(n_rules1,'min_support', supports, max_confs1)"
      ],
      "execution_count":28,
      "outputs":[
        
      ],
      "metadata":{
        "datalore":{
          "sheet_delimiter":false
        }
      }
    },
    {
      "cell_type":"code",
      "source":[
        "def rules_confidence_plot(num_rules, confidence):\n",
        "    plt.plot(confidence, num_rules)\n",
        "    plt.xlabel('min_confidence')\n",
        "    plt.ylabel('number of rules')\n",
        "    plt.show()"
      ],
      "execution_count":11,
      "outputs":[
        
      ],
      "metadata":{
        "datalore":{
          "sheet_delimiter":false
        }
      }
    },
    {
      "cell_type":"code",
      "source":[
        "def analyze_confidence(df, algorithm):\n",
        "    confs = [i*0.1 for i in range(5, 11)]\n",
        "    n_rules = []\n",
        "    \n",
        "    for conf in confs:\n",
        "        print('Confidence: ', conf)\n",
        "        rules = association_rules(algorithm(df, min_support=0.004, max_len = 3), metric='confidence', min_threshold=conf)\n",
        "        \n",
        "        #print(rules[['antecedents', 'consequents', 'support', 'confidence', 'lift']])\n",
        "        n_rules.append(len(rules.index))\n",
        "        \n",
        "    rules_confidence_plot(n_rules, confs)"
      ],
      "execution_count":12,
      "outputs":[
        
      ],
      "metadata":{
        "datalore":{
          "sheet_delimiter":false
        }
      }
    },
    {
      "cell_type":"markdown",
      "source":[
        "##### Apriory"
      ],
      "attachments":{
        
      },
      "metadata":{
        "datalore":{
          "sheet_delimiter":false
        }
      }
    },
    {
      "cell_type":"code",
      "source":[
        "analyze_support_lenght(data_frame, apriori)"
      ],
      "execution_count":29,
      "outputs":[
        {
          "name":"stdout",
          "text":[
            "min_support:  0.003\n",
            "min_support:  0.004\n",
            "min_support:  0.005\n",
            "min_support:  0.006\n",
            "min_support:  0.007\n",
            "min_support:  0.008\n"
          ],
          "output_type":"stream"
        },
        {
          "data":{
            "image\/png":"[encoded data removed]"
          },
          "metadata":{
            "image\/png":{
              
            }
          },
          "output_type":"display_data"
        }
      ],
      "metadata":{
        "datalore":{
          "sheet_delimiter":false
        }
      }
    },
    {
      "cell_type":"code",
      "source":[
        "analyze_confidence(data_frame, apriori)"
      ],
      "execution_count":14,
      "outputs":[
        {
          "name":"stdout",
          "text":[
            "Confidence:  0.5\n",
            "Confidence:  0.6000000000000001\n",
            "Confidence:  0.7000000000000001\n",
            "Confidence:  0.8\n",
            "Confidence:  0.9\n",
            "Confidence:  1.0\n"
          ],
          "output_type":"stream"
        },
        {
          "data":{
            "image\/png":"[encoded data removed]"
          },
          "metadata":{
            "image\/png":{
              
            }
          },
          "output_type":"display_data"
        }
      ],
      "metadata":{
        "datalore":{
          "sheet_delimiter":false
        }
      }
    },
    {
      "cell_type":"markdown",
      "source":[
        "##### FP-growth"
      ],
      "attachments":{
        
      },
      "metadata":{
        "datalore":{
          "sheet_delimiter":false
        }
      }
    },
    {
      "cell_type":"code",
      "source":[
        "analyze_support_lenght(data_frame, fpgrowth)"
      ],
      "execution_count":30,
      "outputs":[
        {
          "name":"stdout",
          "text":[
            "min_support:  0.003\n",
            "min_support:  0.004\n",
            "min_support:  0.005\n",
            "min_support:  0.006\n",
            "min_support:  0.007\n",
            "min_support:  0.008\n"
          ],
          "output_type":"stream"
        },
        {
          "data":{
            "image\/png":"[encoded data removed]"
          },
          "metadata":{
            "image\/png":{
              
            }
          },
          "output_type":"display_data"
        }
      ],
      "metadata":{
        "datalore":{
          "sheet_delimiter":false
        }
      }
    },
    {
      "cell_type":"code",
      "source":[
        "analyze_confidence(data_frame, fpgrowth)"
      ],
      "execution_count":16,
      "outputs":[
        {
          "name":"stdout",
          "text":[
            "Confidence:  0.5\n",
            "Confidence:  0.6000000000000001\n",
            "Confidence:  0.7000000000000001\n",
            "Confidence:  0.8\n",
            "Confidence:  0.9\n",
            "Confidence:  1.0\n"
          ],
          "output_type":"stream"
        },
        {
          "data":{
            "image\/png":"[encoded data removed]"
          },
          "metadata":{
            "image\/png":{
              
            }
          },
          "output_type":"display_data"
        }
      ],
      "metadata":{
        "datalore":{
          "sheet_delimiter":false
        }
      }
    },
    {
      "cell_type":"markdown",
      "source":[
        "### 4. Зробити висновки щодо впливу параметрiв алгоритмiв Apriori та FP-росту на знайденi множини АП."
      ],
      "attachments":{
        
      },
      "metadata":{
        "datalore":{
          "sheet_delimiter":false
        }
      }
    },
    {
      "cell_type":"markdown",
      "source":[
        "\n",
        "1. З графаків залежності кількості правил від максимальної потужності частих наборів видно, що зі збільшенням мінімальної підтримки зменшується максимальна потужність, а покращення(лифт) залишається сталим.\n",
        "\n",
        "2. З графіків залежності кількості прикладів від мінімальної підтримки видно, що до значення support = 0.004 кількість прикладів різко падає, а починаючи від 0.004 спадає дуже повільно.\n",
        "\n",
        "Ці два пункти є досить інтуїтивно зрозумілі з самого означення підтримки та достовірності. Очевидно, що набори з великою потужністю будуть зустрічатися рідше, ніж малою потужністю. До того ж кількість наборів, які зустрічаються рідше є більшою, ніж наборів, які зустрічаються часто; звідси стрімкий спад кількості правил до пітримки при дуже малій підтриці, адже кожен набір зустрічається хоча б 1 раз.\n",
        "\n",
        "1. Зі збільшенням достовірності зменшується кількість правил.\n",
        "2. Зі збільшенням  підтримки зменшується достовірність правил."
      ],
      "attachments":{
        
      },
      "metadata":{
        "datalore":{
          "sheet_delimiter":false
        }
      }
    },
    {
      "cell_type":"markdown",
      "source":[
        "### 5. Знайти значення прогнозу на основi побудованої множини правил."
      ],
      "attachments":{
        
      },
      "metadata":{
        "datalore":{
          "sheet_delimiter":false
        }
      }
    },
    {
      "cell_type":"code",
      "source":[
        "def make_predict(df, algorithm):\n",
        "    rules = association_rules(algorithm(df, min_support=0.002), metric='lift', min_threshold=1.0)\n",
        "    r=rules[rules['confidence']==1].sort_values('support', ascending=[False]).head()\n",
        "    display(r)\n",
        "    r=rules[rules['support'] > 0.01].sort_values('support', ascending=[False]).head()\n",
        "    display(r)\n",
        "    r=rules[rules['lift'] > 100].sort_values('lift', ascending=[False]).head(20)\n",
        "    display(r)\n",
        "    r=rules[(rules['support']>0.004)&(rules['confidence']>0.5)]\n",
        "    display(r)"
      ],
      "execution_count":22,
      "outputs":[
        
      ],
      "metadata":{
        "datalore":{
          "sheet_delimiter":false
        }
      }
    },
    {
      "cell_type":"markdown",
      "source":[
        "##### Apriori"
      ],
      "attachments":{
        
      },
      "metadata":{
        "datalore":{
          "sheet_delimiter":false
        }
      }
    },
    {
      "cell_type":"code",
      "source":[
        "make_predict(data_frame, apriori)"
      ],
      "execution_count":23,
      "outputs":[
        {
          "data":{
            "text\/html":[
              "<div>\n",
              "<style scoped>\n",
              "    .dataframe tbody tr th:only-of-type {\n",
              "        vertical-align: middle;\n",
              "    }\n",
              "\n",
              "    .dataframe tbody tr th {\n",
              "        vertical-align: top;\n",
              "    }\n",
              "\n",
              "    .dataframe thead th {\n",
              "        text-align: right;\n",
              "    }\n",
              "<\/style>\n",
              "<table border=\"1\" class=\"dataframe\">\n",
              "  <thead>\n",
              "    <tr style=\"text-align: right;\">\n",
              "      <th><\/th>\n",
              "      <th>antecedents<\/th>\n",
              "      <th>consequents<\/th>\n",
              "      <th>antecedent support<\/th>\n",
              "      <th>consequent support<\/th>\n",
              "      <th>support<\/th>\n",
              "      <th>confidence<\/th>\n",
              "      <th>lift<\/th>\n",
              "      <th>leverage<\/th>\n",
              "      <th>conviction<\/th>\n",
              "    <\/tr>\n",
              "  <\/thead>\n",
              "  <tbody>\n",
              "    <tr>\n",
              "      <th>129<\/th>\n",
              "      <td>(91)<\/td>\n",
              "      <td>(1953)<\/td>\n",
              "      <td>0.010460<\/td>\n",
              "      <td>0.069038<\/td>\n",
              "      <td>0.006276<\/td>\n",
              "      <td>0.600000<\/td>\n",
              "      <td>8.690909<\/td>\n",
              "      <td>0.005554<\/td>\n",
              "      <td>2.327406<\/td>\n",
              "    <\/tr>\n",
              "    <tr>\n",
              "      <th>163<\/th>\n",
              "      <td>(126)<\/td>\n",
              "      <td>(1144)<\/td>\n",
              "      <td>0.007322<\/td>\n",
              "      <td>0.122385<\/td>\n",
              "      <td>0.004184<\/td>\n",
              "      <td>0.571429<\/td>\n",
              "      <td>4.669109<\/td>\n",
              "      <td>0.003288<\/td>\n",
              "      <td>2.047768<\/td>\n",
              "    <\/tr>\n",
              "    <tr>\n",
              "      <th>390<\/th>\n",
              "      <td>(402)<\/td>\n",
              "      <td>(2221)<\/td>\n",
              "      <td>0.005230<\/td>\n",
              "      <td>0.158996<\/td>\n",
              "      <td>0.004184<\/td>\n",
              "      <td>0.800000<\/td>\n",
              "      <td>5.031579<\/td>\n",
              "      <td>0.003353<\/td>\n",
              "      <td>4.205021<\/td>\n",
              "    <\/tr>\n",
              "    <tr>\n",
              "      <th>567<\/th>\n",
              "      <td>(461)<\/td>\n",
              "      <td>(1144)<\/td>\n",
              "      <td>0.007322<\/td>\n",
              "      <td>0.122385<\/td>\n",
              "      <td>0.004184<\/td>\n",
              "      <td>0.571429<\/td>\n",
              "      <td>4.669109<\/td>\n",
              "      <td>0.003288<\/td>\n",
              "      <td>2.047768<\/td>\n",
              "    <\/tr>\n",
              "    <tr>\n",
              "      <th>630<\/th>\n",
              "      <td>(485)<\/td>\n",
              "      <td>(2221)<\/td>\n",
              "      <td>0.012552<\/td>\n",
              "      <td>0.158996<\/td>\n",
              "      <td>0.007322<\/td>\n",
              "      <td>0.583333<\/td>\n",
              "      <td>3.668860<\/td>\n",
              "      <td>0.005326<\/td>\n",
              "      <td>2.018410<\/td>\n",
              "    <\/tr>\n",
              "    <tr>\n",
              "      <th>1641<\/th>\n",
              "      <td>(2332)<\/td>\n",
              "      <td>(1144)<\/td>\n",
              "      <td>0.007322<\/td>\n",
              "      <td>0.122385<\/td>\n",
              "      <td>0.004184<\/td>\n",
              "      <td>0.571429<\/td>\n",
              "      <td>4.669109<\/td>\n",
              "      <td>0.003288<\/td>\n",
              "      <td>2.047768<\/td>\n",
              "    <\/tr>\n",
              "    <tr>\n",
              "      <th>1693<\/th>\n",
              "      <td>(2675)<\/td>\n",
              "      <td>(1144)<\/td>\n",
              "      <td>0.013598<\/td>\n",
              "      <td>0.122385<\/td>\n",
              "      <td>0.007322<\/td>\n",
              "      <td>0.538462<\/td>\n",
              "      <td>4.399737<\/td>\n",
              "      <td>0.005658<\/td>\n",
              "      <td>1.901499<\/td>\n",
              "    <\/tr>\n",
              "    <tr>\n",
              "      <th>1809<\/th>\n",
              "      <td>(3889)<\/td>\n",
              "      <td>(1144)<\/td>\n",
              "      <td>0.006276<\/td>\n",
              "      <td>0.122385<\/td>\n",
              "      <td>0.004184<\/td>\n",
              "      <td>0.666667<\/td>\n",
              "      <td>5.447293<\/td>\n",
              "      <td>0.003416<\/td>\n",
              "      <td>2.632845<\/td>\n",
              "    <\/tr>\n",
              "    <tr>\n",
              "      <th>2905<\/th>\n",
              "      <td>(2057)<\/td>\n",
              "      <td>(1953)<\/td>\n",
              "      <td>0.005230<\/td>\n",
              "      <td>0.069038<\/td>\n",
              "      <td>0.004184<\/td>\n",
              "      <td>0.800000<\/td>\n",
              "      <td>11.587879<\/td>\n",
              "      <td>0.003823<\/td>\n",
              "      <td>4.654812<\/td>\n",
              "    <\/tr>\n",
              "    <tr>\n",
              "      <th>2919<\/th>\n",
              "      <td>(2286)<\/td>\n",
              "      <td>(1953)<\/td>\n",
              "      <td>0.006276<\/td>\n",
              "      <td>0.069038<\/td>\n",
              "      <td>0.004184<\/td>\n",
              "      <td>0.666667<\/td>\n",
              "      <td>9.656566<\/td>\n",
              "      <td>0.003751<\/td>\n",
              "      <td>2.792887<\/td>\n",
              "    <\/tr>\n",
              "    <tr>\n",
              "      <th>3506<\/th>\n",
              "      <td>(2468)<\/td>\n",
              "      <td>(2221)<\/td>\n",
              "      <td>0.006276<\/td>\n",
              "      <td>0.158996<\/td>\n",
              "      <td>0.004184<\/td>\n",
              "      <td>0.666667<\/td>\n",
              "      <td>4.192982<\/td>\n",
              "      <td>0.003186<\/td>\n",
              "      <td>2.523013<\/td>\n",
              "    <\/tr>\n",
              "    <tr>\n",
              "      <th>3528<\/th>\n",
              "      <td>(2581)<\/td>\n",
              "      <td>(2221)<\/td>\n",
              "      <td>0.006276<\/td>\n",
              "      <td>0.158996<\/td>\n",
              "      <td>0.004184<\/td>\n",
              "      <td>0.666667<\/td>\n",
              "      <td>4.192982<\/td>\n",
              "      <td>0.003186<\/td>\n",
              "      <td>2.523013<\/td>\n",
              "    <\/tr>\n",
              "    <tr>\n",
              "      <th>3546<\/th>\n",
              "      <td>(2760)<\/td>\n",
              "      <td>(2221)<\/td>\n",
              "      <td>0.004184<\/td>\n",
              "      <td>0.158996<\/td>\n",
              "      <td>0.004184<\/td>\n",
              "      <td>1.000000<\/td>\n",
              "      <td>6.289474<\/td>\n",
              "      <td>0.003519<\/td>\n",
              "      <td>inf<\/td>\n",
              "    <\/tr>\n",
              "    <tr>\n",
              "      <th>3577<\/th>\n",
              "      <td>(2975)<\/td>\n",
              "      <td>(2221)<\/td>\n",
              "      <td>0.009414<\/td>\n",
              "      <td>0.158996<\/td>\n",
              "      <td>0.005230<\/td>\n",
              "      <td>0.555556<\/td>\n",
              "      <td>3.494152<\/td>\n",
              "      <td>0.003733<\/td>\n",
              "      <td>1.892259<\/td>\n",
              "    <\/tr>\n",
              "    <tr>\n",
              "      <th>3668<\/th>\n",
              "      <td>(3675)<\/td>\n",
              "      <td>(2221)<\/td>\n",
              "      <td>0.011506<\/td>\n",
              "      <td>0.158996<\/td>\n",
              "      <td>0.006276<\/td>\n",
              "      <td>0.545455<\/td>\n",
              "      <td>3.430622<\/td>\n",
              "      <td>0.004447<\/td>\n",
              "      <td>1.850209<\/td>\n",
              "    <\/tr>\n",
              "    <tr>\n",
              "      <th>3738<\/th>\n",
              "      <td>(4153)<\/td>\n",
              "      <td>(2221)<\/td>\n",
              "      <td>0.009414<\/td>\n",
              "      <td>0.158996<\/td>\n",
              "      <td>0.005230<\/td>\n",
              "      <td>0.555556<\/td>\n",
              "      <td>3.494152<\/td>\n",
              "      <td>0.003733<\/td>\n",
              "      <td>1.892259<\/td>\n",
              "    <\/tr>\n",
              "    <tr>\n",
              "      <th>3746<\/th>\n",
              "      <td>(4171)<\/td>\n",
              "      <td>(2221)<\/td>\n",
              "      <td>0.009414<\/td>\n",
              "      <td>0.158996<\/td>\n",
              "      <td>0.005230<\/td>\n",
              "      <td>0.555556<\/td>\n",
              "      <td>3.494152<\/td>\n",
              "      <td>0.003733<\/td>\n",
              "      <td>1.892259<\/td>\n",
              "    <\/tr>\n",
              "    <tr>\n",
              "      <th>4286<\/th>\n",
              "      <td>(2569)<\/td>\n",
              "      <td>(4260)<\/td>\n",
              "      <td>0.007322<\/td>\n",
              "      <td>0.054393<\/td>\n",
              "      <td>0.004184<\/td>\n",
              "      <td>0.571429<\/td>\n",
              "      <td>10.505495<\/td>\n",
              "      <td>0.003786<\/td>\n",
              "      <td>2.206416<\/td>\n",
              "    <\/tr>\n",
              "    <tr>\n",
              "      <th>4568<\/th>\n",
              "      <td>(4173)<\/td>\n",
              "      <td>(2975)<\/td>\n",
              "      <td>0.004184<\/td>\n",
              "      <td>0.009414<\/td>\n",
              "      <td>0.004184<\/td>\n",
              "      <td>1.000000<\/td>\n",
              "      <td>106.222222<\/td>\n",
              "      <td>0.004145<\/td>\n",
              "      <td>inf<\/td>\n",
              "    <\/tr>\n",
              "    <tr>\n",
              "      <th>7012<\/th>\n",
              "      <td>(3856, 1075)<\/td>\n",
              "      <td>(1463)<\/td>\n",
              "      <td>0.004184<\/td>\n",
              "      <td>0.054393<\/td>\n",
              "      <td>0.004184<\/td>\n",
              "      <td>1.000000<\/td>\n",
              "      <td>18.384615<\/td>\n",
              "      <td>0.003957<\/td>\n",
              "      <td>inf<\/td>\n",
              "    <\/tr>\n",
              "    <tr>\n",
              "      <th>7014<\/th>\n",
              "      <td>(1075, 1463)<\/td>\n",
              "      <td>(3856)<\/td>\n",
              "      <td>0.006276<\/td>\n",
              "      <td>0.027197<\/td>\n",
              "      <td>0.004184<\/td>\n",
              "      <td>0.666667<\/td>\n",
              "      <td>24.512821<\/td>\n",
              "      <td>0.004013<\/td>\n",
              "      <td>2.918410<\/td>\n",
              "    <\/tr>\n",
              "    <tr>\n",
              "      <th>8170<\/th>\n",
              "      <td>(3856, 1893)<\/td>\n",
              "      <td>(1463)<\/td>\n",
              "      <td>0.005230<\/td>\n",
              "      <td>0.054393<\/td>\n",
              "      <td>0.004184<\/td>\n",
              "      <td>0.800000<\/td>\n",
              "      <td>14.707692<\/td>\n",
              "      <td>0.003900<\/td>\n",
              "      <td>4.728033<\/td>\n",
              "    <\/tr>\n",
              "    <tr>\n",
              "      <th>8172<\/th>\n",
              "      <td>(1893, 1463)<\/td>\n",
              "      <td>(3856)<\/td>\n",
              "      <td>0.004184<\/td>\n",
              "      <td>0.027197<\/td>\n",
              "      <td>0.004184<\/td>\n",
              "      <td>1.000000<\/td>\n",
              "      <td>36.769231<\/td>\n",
              "      <td>0.004070<\/td>\n",
              "      <td>inf<\/td>\n",
              "    <\/tr>\n",
              "    <tr>\n",
              "      <th>8250<\/th>\n",
              "      <td>(4022, 1463)<\/td>\n",
              "      <td>(2221)<\/td>\n",
              "      <td>0.006276<\/td>\n",
              "      <td>0.158996<\/td>\n",
              "      <td>0.004184<\/td>\n",
              "      <td>0.666667<\/td>\n",
              "      <td>4.192982<\/td>\n",
              "      <td>0.003186<\/td>\n",
              "      <td>2.523013<\/td>\n",
              "    <\/tr>\n",
              "    <tr>\n",
              "      <th>8578<\/th>\n",
              "      <td>(1953, 1683)<\/td>\n",
              "      <td>(2221)<\/td>\n",
              "      <td>0.006276<\/td>\n",
              "      <td>0.158996<\/td>\n",
              "      <td>0.004184<\/td>\n",
              "      <td>0.666667<\/td>\n",
              "      <td>4.192982<\/td>\n",
              "      <td>0.003186<\/td>\n",
              "      <td>2.523013<\/td>\n",
              "    <\/tr>\n",
              "    <tr>\n",
              "      <th>8580<\/th>\n",
              "      <td>(1683, 2221)<\/td>\n",
              "      <td>(1953)<\/td>\n",
              "      <td>0.007322<\/td>\n",
              "      <td>0.069038<\/td>\n",
              "      <td>0.004184<\/td>\n",
              "      <td>0.571429<\/td>\n",
              "      <td>8.277056<\/td>\n",
              "      <td>0.003679<\/td>\n",
              "      <td>2.172245<\/td>\n",
              "    <\/tr>\n",
              "    <tr>\n",
              "      <th>9443<\/th>\n",
              "      <td>(1953, 2313)<\/td>\n",
              "      <td>(2221)<\/td>\n",
              "      <td>0.007322<\/td>\n",
              "      <td>0.158996<\/td>\n",
              "      <td>0.005230<\/td>\n",
              "      <td>0.714286<\/td>\n",
              "      <td>4.492481<\/td>\n",
              "      <td>0.004066<\/td>\n",
              "      <td>2.943515<\/td>\n",
              "    <\/tr>\n",
              "    <tr>\n",
              "      <th>9444<\/th>\n",
              "      <td>(2313, 2221)<\/td>\n",
              "      <td>(1953)<\/td>\n",
              "      <td>0.009414<\/td>\n",
              "      <td>0.069038<\/td>\n",
              "      <td>0.005230<\/td>\n",
              "      <td>0.555556<\/td>\n",
              "      <td>8.047138<\/td>\n",
              "      <td>0.004580<\/td>\n",
              "      <td>2.094665<\/td>\n",
              "    <\/tr>\n",
              "    <tr>\n",
              "      <th>9586<\/th>\n",
              "      <td>(1953, 4018)<\/td>\n",
              "      <td>(2221)<\/td>\n",
              "      <td>0.008368<\/td>\n",
              "      <td>0.158996<\/td>\n",
              "      <td>0.005230<\/td>\n",
              "      <td>0.625000<\/td>\n",
              "      <td>3.930921<\/td>\n",
              "      <td>0.003900<\/td>\n",
              "      <td>2.242678<\/td>\n",
              "    <\/tr>\n",
              "    <tr>\n",
              "      <th>9588<\/th>\n",
              "      <td>(4018, 2221)<\/td>\n",
              "      <td>(1953)<\/td>\n",
              "      <td>0.008368<\/td>\n",
              "      <td>0.069038<\/td>\n",
              "      <td>0.005230<\/td>\n",
              "      <td>0.625000<\/td>\n",
              "      <td>9.053030<\/td>\n",
              "      <td>0.004652<\/td>\n",
              "      <td>2.482566<\/td>\n",
              "    <\/tr>\n",
              "    <tr>\n",
              "      <th>9598<\/th>\n",
              "      <td>(1953, 4171)<\/td>\n",
              "      <td>(2221)<\/td>\n",
              "      <td>0.004184<\/td>\n",
              "      <td>0.158996<\/td>\n",
              "      <td>0.004184<\/td>\n",
              "      <td>1.000000<\/td>\n",
              "      <td>6.289474<\/td>\n",
              "      <td>0.003519<\/td>\n",
              "      <td>inf<\/td>\n",
              "    <\/tr>\n",
              "    <tr>\n",
              "      <th>9600<\/th>\n",
              "      <td>(4171, 2221)<\/td>\n",
              "      <td>(1953)<\/td>\n",
              "      <td>0.005230<\/td>\n",
              "      <td>0.069038<\/td>\n",
              "      <td>0.004184<\/td>\n",
              "      <td>0.800000<\/td>\n",
              "      <td>11.587879<\/td>\n",
              "      <td>0.003823<\/td>\n",
              "      <td>4.654812<\/td>\n",
              "    <\/tr>\n",
              "    <tr>\n",
              "      <th>9616<\/th>\n",
              "      <td>(1953, 4260)<\/td>\n",
              "      <td>(2221)<\/td>\n",
              "      <td>0.007322<\/td>\n",
              "      <td>0.158996<\/td>\n",
              "      <td>0.004184<\/td>\n",
              "      <td>0.571429<\/td>\n",
              "      <td>3.593985<\/td>\n",
              "      <td>0.003020<\/td>\n",
              "      <td>1.962343<\/td>\n",
              "    <\/tr>\n",
              "    <tr>\n",
              "      <th>10367<\/th>\n",
              "      <td>(2480, 4022)<\/td>\n",
              "      <td>(2221)<\/td>\n",
              "      <td>0.005230<\/td>\n",
              "      <td>0.158996<\/td>\n",
              "      <td>0.004184<\/td>\n",
              "      <td>0.800000<\/td>\n",
              "      <td>5.031579<\/td>\n",
              "      <td>0.003353<\/td>\n",
              "      <td>4.205021<\/td>\n",
              "    <\/tr>\n",
              "  <\/tbody>\n",
              "<\/table>\n",
              "<\/div>"
            ]
          },
          "metadata":{
            
          },
          "output_type":"display_data"
        }
      ],
      "metadata":{
        "datalore":{
          "sheet_delimiter":false
        }
      }
    },
    {
      "cell_type":"markdown",
      "source":[
        "##### FP-growth"
      ],
      "attachments":{
        
      },
      "metadata":{
        "datalore":{
          "sheet_delimiter":false
        }
      }
    },
    {
      "cell_type":"code",
      "source":[
        "make_predict(data_frame, fpgrowth)"
      ],
      "execution_count":19,
      "outputs":[
        {
          "data":{
            "text\/html":[
              "<div>\n",
              "<style scoped>\n",
              "    .dataframe tbody tr th:only-of-type {\n",
              "        vertical-align: middle;\n",
              "    }\n",
              "\n",
              "    .dataframe tbody tr th {\n",
              "        vertical-align: top;\n",
              "    }\n",
              "\n",
              "    .dataframe thead th {\n",
              "        text-align: right;\n",
              "    }\n",
              "<\/style>\n",
              "<table border=\"1\" class=\"dataframe\">\n",
              "  <thead>\n",
              "    <tr style=\"text-align: right;\">\n",
              "      <th><\/th>\n",
              "      <th>antecedents<\/th>\n",
              "      <th>consequents<\/th>\n",
              "      <th>antecedent support<\/th>\n",
              "      <th>consequent support<\/th>\n",
              "      <th>support<\/th>\n",
              "      <th>confidence<\/th>\n",
              "      <th>lift<\/th>\n",
              "      <th>leverage<\/th>\n",
              "      <th>conviction<\/th>\n",
              "    <\/tr>\n",
              "  <\/thead>\n",
              "  <tbody>\n",
              "    <tr>\n",
              "      <th>2384<\/th>\n",
              "      <td>(2313, 1953)<\/td>\n",
              "      <td>(2221)<\/td>\n",
              "      <td>0.007322<\/td>\n",
              "      <td>0.158996<\/td>\n",
              "      <td>0.00523<\/td>\n",
              "      <td>0.714286<\/td>\n",
              "      <td>4.492481<\/td>\n",
              "      <td>0.004066<\/td>\n",
              "      <td>2.943515<\/td>\n",
              "    <\/tr>\n",
              "  <\/tbody>\n",
              "<\/table>\n",
              "<\/div>"
            ]
          },
          "metadata":{
            
          },
          "output_type":"display_data"
        }
      ],
      "metadata":{
        "datalore":{
          "sheet_delimiter":false
        }
      }
    },
    {
      "cell_type":"markdown",
      "source":[
        "\n",
        "\n",
        "1. Як можна побачити з таблиць, багато правил має достовірність, рівну 1, що означає, що товар-\"antecedents\", купується лише з товаром-\"consequents\". Однак підтримка цих правил є дуже малою. Максимального значення пітримки (0.004184) при цьому набуває 5 правил, проте найбільше значення метрики 'lift' має правило:\n",
        "\n",
        "(4173) -> (2975)\n",
        "\n",
        "2. Оскільки обсяг пропозиції товарів (>49683, з них 4438 куплено хоча б 1 раз) значно перевищує кількість покупок (956 успішних замовлень, в сумі 9720 куплених товарів), при чому кількість товарів в одному замовленні є невеликою, то максимальна можлива підтримка є досить малою. Максимального значення (0.025105) набуває 2 правила, але вищу достовірність має правило:\n",
        "\n",
        "(1953) -> (2221)\n",
        "\n",
        "3. Максимального значення метрики 'lift' набуває багато правил, які при цьому мають максимальну достовірність, проте дуже малу підтримку (зустрічаються ~2 рази з 956).\n",
        "\n",
        "\n",
        "* Правило, яке має не максимальні, але відносно високі метрики:\n",
        "\n",
        "(2313, 1953) -> (2221)\n",
        "\n",
        "\n",
        "Зважаючи на велику різницю між пропозицією та замовленями, вибрати 1 найточніше правило не можна, бо якщо правила зустрічаються частіше, то мають малу достовірність, а якщо мають максимальну достовірність, то зустрічаються <5 раз."
      ],
      "attachments":{
        
      },
      "metadata":{
        "datalore":{
          "sheet_delimiter":false
        }
      }
    },
    {
      "cell_type":"markdown",
      "source":[
        "### 6. Порiвняти результати, отриманi алгоритмами Apriori та FP-росту."
      ],
      "attachments":{
        
      },
      "metadata":{
        "datalore":{
          "sheet_delimiter":false
        }
      }
    },
    {
      "cell_type":"markdown",
      "source":[
        "Результати алгоритму FP-growth в точності повторюють результати алгоритму Apriori. Варто зазначити те, що алгоритм FP-growth працює трохи швидше від Apriori приблизно в 2-3 рази.\n",
        "Найбільший вплив має параметр min_support та min_conf, а найменший – max_len. При збільшенні min_support кількість знайдених наборів значно зменшується. Зменшення кількості наборів також відбувається після збільшення min_threshold. Оцінка покращення lift збільшилась при збільшенні параметру min_conf, тому можна сказати, що найкращими серед перелічених є моделі, в яких параметр min_conf = 0.6. Для max_len були перевірені значення  2, 3, 4 але для них не можливо побудувати, тому були використані більші значення, але вони не дають видимих змін. Це все також через малий набір даних. Найкрвщий параметр min_support=0.004, бо для менших за нього кількість правил буже зменшується, а за більшого значення min_conf значно зменшується "
      ],
      "attachments":{
        
      },
      "metadata":{
        "datalore":{
          "sheet_delimiter":false
        }
      }
    }
  ],
  "metadata":{
    
  },
  "nbformat":4,
  "nbformat_minor":0
}