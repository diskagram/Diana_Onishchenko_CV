{
  "cells":[
    {
      "cell_type":"markdown",
      "source":[
        "![title](attachment:.\/title.png)"
      ],
      "attachments":{
        
      },
      "metadata":{
        "jupyter":{
          "source_hidden":false,
          "outputs_hidden":false
        },
        "datalore":{
          "type":"MD",
          "sheet_delimiter":false
        }
      }
    },
    {
      "cell_type":"markdown",
      "source":[
        "## Завдання\n",
        "\n",
        "1. Взяти файл з даними у вiдповiдностi з варiантом.\n",
        "\n",
        "2. Побудувати частi набори та асоцiативнi правила (АП), використовуючи алгоритм Apriori. Дослiдити множини АП залежно вiд параметрiв побудови АП:\n",
        "\n",
        "* мiнiмальної пiдтримки,\n",
        "* мiнiмальної достовiрностi,\n",
        "* максимальної потужностi частих наборiв.\n",
        "\n",
        "\n",
        "Пiдiбрати значення параметрiв алгоритму Apriori, якi призводять до\n",
        "значущих АП. АП Rk вважати значущим, якщо покращення (improvement\n",
        "або лiфт (lift)): Improv(Rk) > 1.\n",
        "\n",
        "\n",
        "3. Побудувати частi набори та множину АП, використовуючи алгоритм FPросту.\n",
        "Дослiдити множини АП залежно вiд параметрiв побудови АП, якi\n",
        "було наведено вище для Apriori.\n",
        "\n",
        "Пiдiбрати значення параметрiв алгоритму FP-росту, якi призводять до\n",
        "значущих АП.\n",
        "\n",
        "4. Зробити висновки щодо впливу параметрiв алгоритмiв Apriori та FP-росту на знайденi множини АП.\n",
        "5. Знайти значення прогнозу на основi побудованої множини правил.\n",
        "6. Порiвняти результати, отриманi алгоритмами Apriori та FP-росту."
      ],
      "attachments":{
        
      },
      "metadata":{
        "jupyter":{
          "source_hidden":false,
          "outputs_hidden":false
        },
        "datalore":{
          "type":"MD",
          "sheet_delimiter":false
        }
      }
    },
    {
      "cell_type":"markdown",
      "source":[
        "#### 6 варіант\n",
        "\n",
        "Var_6_1000_Transactions"
      ],
      "attachments":{
        
      },
      "metadata":{
        "jupyter":{
          "source_hidden":false,
          "outputs_hidden":false
        },
        "datalore":{
          "type":"MD",
          "sheet_delimiter":false
        }
      }
    },
    {
      "cell_type":"markdown",
      "source":[
        "### 1. Взяти файл з даними у вiдповiдностi з варiантом. "
      ],
      "attachments":{
        
      },
      "metadata":{
        "jupyter":{
          "source_hidden":false,
          "outputs_hidden":false
        },
        "datalore":{
          "type":"MD",
          "sheet_delimiter":false
        }
      }
    },
    {
      "cell_type":"code",
      "source":[
        "import pandas as pd\n",
        "import numpy as np\n",
        "import matplotlib.pyplot as plt\n",
        "from mlxtend.preprocessing import TransactionEncoder"
      ],
      "execution_count":1,
      "outputs":[
        
      ],
      "metadata":{
        "jupyter":{
          "source_hidden":false,
          "outputs_hidden":false
        },
        "datalore":{
          "type":"CODE",
          "sheet_delimiter":false
        }
      }
    },
    {
      "cell_type":"code",
      "source":[
        "data = pd.read_csv('Var_6_1000_Transactions.csv')\n",
        "data"
      ],
      "execution_count":3,
      "outputs":[
        {
          "data":{
            "text\/html":[
              "<div>\n",
              "<style scoped>\n",
              "    .dataframe tbody tr th:only-of-type {\n",
              "        vertical-align: middle;\n",
              "    }\n",
              "\n",
              "    .dataframe tbody tr th {\n",
              "        vertical-align: top;\n",
              "    }\n",
              "\n",
              "    .dataframe thead th {\n",
              "        text-align: right;\n",
              "    }\n",
              "<\/style>\n",
              "<table border=\"1\" class=\"dataframe\">\n",
              "  <thead>\n",
              "    <tr style=\"text-align: right;\">\n",
              "      <th><\/th>\n",
              "      <th>order_id<\/th>\n",
              "      <th>product_id<\/th>\n",
              "    <\/tr>\n",
              "  <\/thead>\n",
              "  <tbody>\n",
              "    <tr>\n",
              "      <th>0<\/th>\n",
              "      <td>2<\/td>\n",
              "      <td>33120<\/td>\n",
              "    <\/tr>\n",
              "    <tr>\n",
              "      <th>1<\/th>\n",
              "      <td>2<\/td>\n",
              "      <td>28985<\/td>\n",
              "    <\/tr>\n",
              "    <tr>\n",
              "      <th>2<\/th>\n",
              "      <td>2<\/td>\n",
              "      <td>9327<\/td>\n",
              "    <\/tr>\n",
              "    <tr>\n",
              "      <th>3<\/th>\n",
              "      <td>2<\/td>\n",
              "      <td>45918<\/td>\n",
              "    <\/tr>\n",
              "    <tr>\n",
              "      <th>4<\/th>\n",
              "      <td>2<\/td>\n",
              "      <td>30035<\/td>\n",
              "    <\/tr>\n",
              "    <tr>\n",
              "      <th>...<\/th>\n",
              "      <td>...<\/td>\n",
              "      <td>...<\/td>\n",
              "    <\/tr>\n",
              "    <tr>\n",
              "      <th>9715<\/th>\n",
              "      <td>1000<\/td>\n",
              "      <td>35951<\/td>\n",
              "    <\/tr>\n",
              "    <tr>\n",
              "      <th>9716<\/th>\n",
              "      <td>1000<\/td>\n",
              "      <td>3025<\/td>\n",
              "    <\/tr>\n",
              "    <tr>\n",
              "      <th>9717<\/th>\n",
              "      <td>1000<\/td>\n",
              "      <td>35734<\/td>\n",
              "    <\/tr>\n",
              "    <tr>\n",
              "      <th>9718<\/th>\n",
              "      <td>1000<\/td>\n",
              "      <td>26800<\/td>\n",
              "    <\/tr>\n",
              "    <tr>\n",
              "      <th>9719<\/th>\n",
              "      <td>1000<\/td>\n",
              "      <td>8981<\/td>\n",
              "    <\/tr>\n",
              "  <\/tbody>\n",
              "<\/table>\n",
              "<p>9720 rows × 2 columns<\/p>\n",
              "<\/div>"
            ]
          },
          "metadata":{
            
          },
          "output_type":"display_data"
        }
      ],
      "metadata":{
        "jupyter":{
          "source_hidden":false,
          "outputs_hidden":false
        },
        "datalore":{
          "type":"CODE",
          "sheet_delimiter":false
        }
      }
    },
    {
      "cell_type":"code",
      "source":[
        "#pip install mlxtend"
      ],
      "execution_count":2,
      "outputs":[
        {
          "name":"stdout",
          "text":[
            "Collecting mlxtend\r\n",
            "  Downloading mlxtend-0.19.0-py2.py3-none-any.whl (1.3 MB)\r\n",
            "\u001b[?25l\r\r     |▎                               | 10 kB 22.8 MB\/s eta 0:00:01\r     |▌                               | 20 kB 28.9 MB\/s eta 0:00:01\r     |▊                               | 30 kB 33.7 MB\/s eta 0:00:01\r     |█                               | 40 kB 37.3 MB\/s eta 0:00:01\r     |█▏                              | 51 kB 38.5 MB\/s eta 0:00:01\r     |█▌                              | 61 kB 40.3 MB\/s eta 0:00:01\r     |█▊                              | 71 kB 28.5 MB\/s eta 0:00:01\r     |██                              | 81 kB 30.9 MB\/s eta 0:00:01\r     |██▏                             | 92 kB 32.9 MB\/s eta 0:00:01\r     |██▍                             | 102 kB 27.6 MB\/s eta 0:00:01\r     |██▊                             | 112 kB 27.6 MB\/s eta 0:00:01\r     |███                             | 122 kB 27.6 MB\/s eta 0:00:01\r     |███▏                            | 133 kB 27.6 MB\/s eta 0:00:01\r     |███▍                            | 143 kB 27.6 MB\/s eta 0:00:01\r     |███▋                            | 153 kB 27.6 MB\/s eta 0:00:01\r     |████                            | 163 kB 27.6 MB\/s eta 0:00:01\r     |████▏                           | 174 kB 27.6 MB\/s eta 0:00:01\r     |████▍                           | 184 kB 27.6 MB\/s eta 0:00:01\r     |████▋                           | 194 kB 27.6 MB\/s eta 0:00:01\r     |████▉                           | 204 kB 27.6 MB\/s eta 0:00:01\r     |█████                           | 215 kB 27.6 MB\/s eta 0:00:01\r     |█████▍                          | 225 kB 27.6 MB\/s eta 0:00:01\r     |█████▋                          | 235 kB 27.6 MB\/s eta 0:00:01\r     |█████▉                          | 245 kB 27.6 MB\/s eta 0:00:01\r     |██████                          | 256 kB 27.6 MB\/s eta 0:00:01\r     |██████▎                         | 266 kB 27.6 MB\/s eta 0:00:01\r     |██████▋                         | 276 kB 27.6 MB\/s eta 0:00:01\r     |██████▉                         | 286 kB 27.6 MB\/s eta 0:00:01\r     |███████                         | 296 kB 27.6 MB\/s eta 0:00:01\r     |███████▎                        | 307 kB 27.6 MB\/s eta 0:00:01\r     |███████▌                        | 317 kB 27.6 MB\/s eta 0:00:01\r     |███████▉                        | 327 kB 27.6 MB\/s eta 0:00:01\r     |████████                        | 337 kB 27.6 MB\/s eta 0:00:01\r     |████████▎                       | 348 kB 27.6 MB\/s eta 0:00:01\r     |████████▌                       | 358 kB 27.6 MB\/s eta 0:00:01\r     |████████▊                       | 368 kB 27.6 MB\/s eta 0:00:01\r     |█████████                       | 378 kB 27.6 MB\/s eta 0:00:01\r     |█████████▎                      | 389 kB 27.6 MB\/s eta 0:00:01\r     |█████████▌                      | 399 kB 27.6 MB\/s eta 0:00:01\r     |█████████▊                      | 409 kB 27.6 MB\/s eta 0:00:01\r     |██████████                      | 419 kB 27.6 MB\/s eta 0:00:01\r     |██████████▏                     | 430 kB 27.6 MB\/s eta 0:00:01\r     |██████████▌                     | 440 kB 27.6 MB\/s eta 0:00:01\r     |██████████▊                     | 450 kB 27.6 MB\/s eta 0:00:01\r     |███████████                     | 460 kB 27.6 MB\/s eta 0:00:01\r     |███████████▏                    | 471 kB 27.6 MB\/s eta 0:00:01\r     |███████████▍                    | 481 kB 27.6 MB\/s eta 0:00:01\r     |███████████▊                    | 491 kB 27.6 MB\/s eta 0:00:01\r     |████████████                    | 501 kB 27.6 MB\/s eta 0:00:01\r     |████████████▏                   | 512 kB 27.6 MB\/s eta 0:00:01\r     |████████████▍                   | 522 kB 27.6 MB\/s eta 0:00:01\r     |████████████▋                   | 532 kB 27.6 MB\/s eta 0:00:01\r     |████████████▉                   | 542 kB 27.6 MB\/s eta 0:00:01\r     |█████████████▏                  | 552 kB 27.6 MB\/s eta 0:00:01\r     |█████████████▍                  | 563 kB 27.6 MB\/s eta 0:00:01\r     |█████████████▋                  | 573 kB 27.6 MB\/s eta 0:00:01\r     |█████████████▉                  | 583 kB 27.6 MB\/s eta 0:00:01\r     |██████████████                  | 593 kB 27.6 MB\/s eta 0:00:01\r     |██████████████▍                 | 604 kB 27.6 MB\/s eta 0:00:01\r     |██████████████▋                 | 614 kB 27.6 MB\/s eta 0:00:01\r     |██████████████▉                 | 624 kB 27.6 MB\/s eta 0:00:01\r     |███████████████                 | 634 kB 27.6 MB\/s eta 0:00:01\r     |███████████████▎                | 645 kB 27.6 MB\/s eta 0:00:01\r     |███████████████▋                | 655 kB 27.6 MB\/s eta 0:00:01\r     |███████████████▉                | 665 kB 27.6 MB\/s eta 0:00:01\r     |████████████████                | 675 kB 27.6 MB\/s eta 0:00:01\r     |████████████████▎               | 686 kB 27.6 MB\/s eta 0:00:01\r     |████████████████▌               | 696 kB 27.6 MB\/s eta 0:00:01\r     |████████████████▊               | 706 kB 27.6 MB\/s eta 0:00:01\r     |█████████████████               | 716 kB 27.6 MB\/s eta 0:00:01\r     |█████████████████▎              | 727 kB 27.6 MB\/s eta 0:00:01\r     |█████████████████▌              | 737 kB 27.6 MB\/s eta 0:00:01\r     |█████████████████▊              | 747 kB 27.6 MB\/s eta 0:00:01\r     |██████████████████              | 757 kB 27.6 MB\/s eta 0:00:01\r     |██████████████████▎             | 768 kB 27.6 MB\/s eta 0:00:01\r     |██████████████████▌             | 778 kB 27.6 MB\/s eta 0:00:01\r     |██████████████████▊             | 788 kB 27.6 MB\/s eta 0:00:01\r     |███████████████████             | 798 kB 27.6 MB\/s eta 0:00:01\r     |███████████████████▏            | 808 kB 27.6 MB\/s eta 0:00:01\r     |███████████████████▌            | 819 kB 27.6 MB\/s eta 0:00:01\r     |███████████████████▊            | 829 kB 27.6 MB\/s eta 0:00:01\r     |████████████████████            | 839 kB 27.6 MB\/s eta 0:00:01\r     |████████████████████▏           | 849 kB 27.6 MB\/s eta 0:00:01\r     |████████████████████▍           | 860 kB 27.6 MB\/s eta 0:00:01\r     |████████████████████▋           | 870 kB 27.6 MB\/s eta 0:00:01\r     |█████████████████████           | 880 kB 27.6 MB\/s eta 0:00:01\r     |█████████████████████▏          | 890 kB 27.6 MB\/s eta 0:00:01\r     |█████████████████████▍          | 901 kB 27.6 MB\/s eta 0:00:01\r     |█████████████████████▋          | 911 kB 27.6 MB\/s eta 0:00:01\r     |█████████████████████▉          | 921 kB 27.6 MB\/s eta 0:00:01\r     |██████████████████████▏         | 931 kB 27.6 MB\/s eta 0:00:01\r     |██████████████████████▍         | 942 kB 27.6 MB\/s eta 0:00:01\r     |██████████████████████▋         | 952 kB 27.6 MB\/s eta 0:00:01\r     |██████████████████████▉         | 962 kB 27.6 MB\/s eta 0:00:01\r     |███████████████████████         | 972 kB 27.6 MB\/s eta 0:00:01\r     |███████████████████████▍        | 983 kB 27.6 MB\/s eta 0:00:01\r     |███████████████████████▋        | 993 kB 27.6 MB\/s eta 0:00:01\r     |███████████████████████▉        | 1.0 MB 27.6 MB\/s eta 0:00:01\r     |████████████████████████        | 1.0 MB 27.6 MB\/s eta 0:00:01\r     |████████████████████████▎       | 1.0 MB 27.6 MB\/s eta 0:00:01\r     |████████████████████████▌       | 1.0 MB 27.6 MB\/s eta 0:00:01\r     |████████████████████████▉       | 1.0 MB 27.6 MB\/s eta 0:00:01\r     |█████████████████████████       | 1.1 MB 27.6 MB\/s eta 0:00:01\r     |█████████████████████████▎      | 1.1 MB 27.6 MB\/s eta 0:00:01\r     |█████████████████████████▌      | 1.1 MB 27.6 MB\/s eta 0:00:01\r     |█████████████████████████▊      | 1.1 MB 27.6 MB\/s eta 0:00:01\r     |██████████████████████████      | 1.1 MB 27.6 MB\/s eta 0:00:01\r     |██████████████████████████▎     | 1.1 MB 27.6 MB\/s eta 0:00:01\r     |██████████████████████████▌     | 1.1 MB 27.6 MB\/s eta 0:00:01\r     |██████████████████████████▊     | 1.1 MB 27.6 MB\/s eta 0:00:01\r     |███████████████████████████     | 1.1 MB 27.6 MB\/s eta 0:00:01\r     |███████████████████████████▎    | 1.1 MB 27.6 MB\/s eta 0:00:01\r     |███████████████████████████▌    | 1.2 MB 27.6 MB\/s eta 0:00:01\r     |███████████████████████████▊    | 1.2 MB 27.6 MB\/s eta 0:00:01\r     |████████████████████████████    | 1.2 MB 27.6 MB\/s eta 0:00:01\r     |████████████████████████████▏   | 1.2 MB 27.6 MB\/s eta 0:00:01\r     |████████████████████████████▍   | 1.2 MB 27.6 MB\/s eta 0:00:01\r     |████████████████████████████▊   | 1.2 MB 27.6 MB\/s eta 0:00:01\r     |█████████████████████████████   | 1.2 MB 27.6 MB\/s eta 0:00:01\r     |█████████████████████████████▏  | 1.2 MB 27.6 MB\/s eta 0:00:01\r     |█████████████████████████████▍  | 1.2 MB 27.6 MB\/s eta 0:00:01\r     |█████████████████████████████▋  | 1.2 MB 27.6 MB\/s eta 0:00:01\r     |██████████████████████████████  | 1.3 MB 27.6 MB\/s eta 0:00:01\r     |██████████████████████████████▏ | 1.3 MB 27.6 MB\/s eta 0:00:01\r     |██████████████████████████████▍ | 1.3 MB 27.6 MB\/s eta 0:00:01\r     |██████████████████████████████▋ | 1.3 MB 27.6 MB\/s eta 0:00:01\r     |██████████████████████████████▉ | 1.3 MB 27.6 MB\/s eta 0:00:01\r     |███████████████████████████████▏| 1.3 MB 27.6 MB\/s eta 0:00:01\r     |███████████████████████████████▍| 1.3 MB 27.6 MB\/s eta 0:00:01\r     |███████████████████████████████▋| 1.3 MB 27.6 MB\/s eta 0:00:01\r     |███████████████████████████████▉| 1.3 MB 27.6 MB\/s eta 0:00:01\r     |████████████████████████████████| 1.3 MB 27.6 MB\/s            \r\n",
            "\u001b[?25hRequirement already satisfied: matplotlib>=3.0.0 in \/opt\/python\/envs\/default\/lib\/python3.8\/site-packages (from mlxtend) (3.3.4)\r\n",
            "Requirement already satisfied: scikit-learn>=0.20.3 in \/opt\/python\/envs\/default\/lib\/python3.8\/site-packages (from mlxtend) (1.0)\r\n",
            "Requirement already satisfied: numpy>=1.16.2 in \/opt\/python\/envs\/default\/lib\/python3.8\/site-packages (from mlxtend) (1.19.5)\r\n",
            "Requirement already satisfied: joblib>=0.13.2 in \/opt\/python\/envs\/default\/lib\/python3.8\/site-packages (from mlxtend) (1.1.0)\r\n",
            "Requirement already satisfied: setuptools in \/opt\/python\/envs\/default\/lib\/python3.8\/site-packages (from mlxtend) (56.0.0)\r\n",
            "Requirement already satisfied: scipy>=1.2.1 in \/opt\/python\/envs\/default\/lib\/python3.8\/site-packages (from mlxtend) (1.7.1)\r\n",
            "Requirement already satisfied: pandas>=0.24.2 in \/opt\/python\/envs\/default\/lib\/python3.8\/site-packages (from mlxtend) (1.3.4)\r\n",
            "Requirement already satisfied: pillow>=6.2.0 in \/opt\/python\/envs\/default\/lib\/python3.8\/site-packages (from matplotlib>=3.0.0->mlxtend) (8.4.0)\r\n",
            "Requirement already satisfied: cycler>=0.10 in \/opt\/python\/envs\/default\/lib\/python3.8\/site-packages (from matplotlib>=3.0.0->mlxtend) (0.11.0)\r\n",
            "Requirement already satisfied: kiwisolver>=1.0.1 in \/opt\/python\/envs\/default\/lib\/python3.8\/site-packages (from matplotlib>=3.0.0->mlxtend) (1.3.2)\r\n",
            "Requirement already satisfied: pyparsing!=2.0.4,!=2.1.2,!=2.1.6,>=2.0.3 in \/opt\/python\/envs\/default\/lib\/python3.8\/site-packages (from matplotlib>=3.0.0->mlxtend) (3.0.6)\r\n",
            "Requirement already satisfied: python-dateutil>=2.1 in \/opt\/python\/envs\/default\/lib\/python3.8\/site-packages (from matplotlib>=3.0.0->mlxtend) (2.8.2)\r\n",
            "Requirement already satisfied: pytz>=2017.3 in \/opt\/python\/envs\/default\/lib\/python3.8\/site-packages (from pandas>=0.24.2->mlxtend) (2021.3)\r\n",
            "Requirement already satisfied: threadpoolctl>=2.0.0 in \/opt\/python\/envs\/default\/lib\/python3.8\/site-packages (from scikit-learn>=0.20.3->mlxtend) (3.0.0)\r\n",
            "Requirement already satisfied: six>=1.5 in \/opt\/python\/envs\/default\/lib\/python3.8\/site-packages (from python-dateutil>=2.1->matplotlib>=3.0.0->mlxtend) (1.15.0)\r\n",
            "Installing collected packages: mlxtend\r\n",
            "Successfully installed mlxtend-0.19.0\r\n",
            "Note: you may need to restart the kernel to use updated packages.\n"
          ],
          "output_type":"stream"
        }
      ],
      "metadata":{
        "jupyter":{
          "source_hidden":false,
          "outputs_hidden":false
        },
        "datalore":{
          "type":"CODE",
          "sheet_delimiter":false
        }
      }
    },
    {
      "cell_type":"code",
      "source":[
        "def make_orders(id_order, id_item):\n",
        "    result = []\n",
        "    add = []\n",
        "    \n",
        "    curr_id = id_order[0]\n",
        "    for i in range(len(id_order)):\n",
        "        if id_order[i] == curr_id:\n",
        "            add.append(id_item[i])\n",
        "        else:\n",
        "            result.append(add)\n",
        "            add = []\n",
        "            curr_id = id_order[i]\n",
        "            add.append(id_item[i])\n",
        "    result.append(add)\n",
        "    return result"
      ],
      "execution_count":0,
      "outputs":[
        
      ],
      "metadata":{
        "jupyter":{
          "source_hidden":false,
          "outputs_hidden":false
        },
        "datalore":{
          "type":"CODE",
          "sheet_delimiter":false
        }
      }
    },
    {
      "cell_type":"code",
      "source":[
        "orders = make_orders(list(data['order_id']), list(data['product_id']))\n",
        "print('Number of successful orders: ', len(set(data['order_id'])))\n",
        "\n",
        "print('Orders (10):\\n')\n",
        "for i in range(10):\n",
        "    print(orders[i])"
      ],
      "execution_count":0,
      "outputs":[
        
      ],
      "metadata":{
        "jupyter":{
          "source_hidden":false,
          "outputs_hidden":false
        },
        "datalore":{
          "type":"CODE",
          "sheet_delimiter":false
        }
      }
    },
    {
      "cell_type":"code",
      "source":[
        "def encoding(orders):\n",
        "    encoder = TransactionEncoder()\n",
        "    data = encoder.fit(orders).transform(orders)\n",
        "    return pd.DataFrame(data, columns=encoder.columns_)"
      ],
      "execution_count":0,
      "outputs":[
        
      ],
      "metadata":{
        "jupyter":{
          "source_hidden":false,
          "outputs_hidden":false
        },
        "datalore":{
          "type":"CODE",
          "sheet_delimiter":false
        }
      }
    },
    {
      "cell_type":"code",
      "source":[
        "data_frame = encoding(orders)\n",
        "data_frame.astype(\"int\")[600:650]"
      ],
      "execution_count":0,
      "outputs":[
        
      ],
      "metadata":{
        "jupyter":{
          "source_hidden":false,
          "outputs_hidden":false
        },
        "datalore":{
          "type":"CODE",
          "sheet_delimiter":false
        }
      }
    },
    {
      "cell_type":"markdown",
      "source":[
        "### 2. Побудувати частi набори та асоцiативнi правила (АП), використовуючи алгоритм Apriori.\n",
        "### +3. Побудувати частi набори та множину АП, використовуючи алгоритм FP-росту.\n",
        "\n",
        "Дослiдити множини АП залежно вiд параметрiв побудови АП:\n",
        "\n",
        "* мiнiмальної пiдтримки,\n",
        "* мiнiмальної достовiрностi,\n",
        "* максимальної потужностi частих наборiв.\n",
        "\n",
        "Пiдiбрати значення параметрiв алгоритму Apriori, якi призводять до\n",
        "значущих АП."
      ],
      "attachments":{
        
      },
      "metadata":{
        "jupyter":{
          "source_hidden":false,
          "outputs_hidden":false
        },
        "datalore":{
          "type":"MD",
          "sheet_delimiter":false
        }
      }
    },
    {
      "cell_type":"code",
      "source":[
        "from mlxtend.frequent_patterns import apriori, association_rules, fpgrowth"
      ],
      "execution_count":0,
      "outputs":[
        
      ],
      "metadata":{
        "jupyter":{
          "source_hidden":false,
          "outputs_hidden":false
        },
        "datalore":{
          "type":"CODE",
          "sheet_delimiter":false
        }
      }
    },
    {
      "cell_type":"code",
      "source":[
        "def rules_support_plot(num_rules, metric_name, metric_values, confs):\n",
        "    fig, (ax1, ax2) = plt.subplots(1, 2, figsize=(15, 4))\n",
        "    \n",
        "    ax1.plot(metric_values, num_rules)\n",
        "    ax1.set_xlabel(metric_name)\n",
        "    ax1.set_ylabel('number of rules')\n",
        "    \n",
        "    ax2.plot(metric_values, confs)\n",
        "    ax2.set_xlabel(metric_name)\n",
        "    ax2.set_ylabel('max confidence')\n",
        "    \n",
        "    plt.show()"
      ],
      "execution_count":0,
      "outputs":[
        
      ],
      "metadata":{
        "jupyter":{
          "source_hidden":false,
          "outputs_hidden":false
        },
        "datalore":{
          "type":"CODE",
          "sheet_delimiter":false
        }
      }
    },
    {
      "cell_type":"code",
      "source":[
        "def analyze_support_lenght(df, algorithm):\n",
        "    max_confs1 = []\n",
        "    n_rules1 = []\n",
        "    supports = [0.003+i*10**(-3) for i in range(6)]\n",
        "    length = [2, 3, 4]\n",
        "    \n",
        "    for support in supports:\n",
        "        print('min_support: ', support)\n",
        "        \n",
        "        rules = association_rules(algorithm(df, min_support=support), metric='confidence', min_threshold=0.5)\n",
        "        display(rules)\n",
        "        \n",
        "        n_rules1.append(len(rules.index))\n",
        "        max_confs1.append(max(list(rules['confidence'])))\n",
        "        \n",
        "        n_rules2 = []\n",
        "        max_confs2 = []\n",
        "        \n",
        "        for lng in length:\n",
        "            \n",
        "            rules = association_rules(algorithm(df, min_support=support, max_len = lng), metric='confidence', min_threshold=0.5)\n",
        "            n_rules2.append(len(rules.index))\n",
        "            if(len(list(rules['confidence']))):\n",
        "                max_confs2.append(max(list(rules['confidence'])))\n",
        "            else:\n",
        "                max_confs2.append(0.0)\n",
        "        \n",
        "        rules_support_plot(n_rules2, 'max_len', length, max_confs2)\n",
        "          \n",
        "    rules_support_plot(n_rules1,'min_support', supports, max_confs1)\n",
        "        \n",
        "        "
      ],
      "execution_count":0,
      "outputs":[
        
      ],
      "metadata":{
        "jupyter":{
          "source_hidden":false,
          "outputs_hidden":false
        },
        "datalore":{
          "type":"CODE",
          "sheet_delimiter":false
        }
      }
    },
    {
      "cell_type":"code",
      "source":[
        "def rules_confidence_plot(num_rules, confidence):\n",
        "    plt.plot(confidence, num_rules)\n",
        "    plt.xlabel('min_confidence')\n",
        "    plt.ylabel('number of rules')\n",
        "    plt.show()"
      ],
      "execution_count":0,
      "outputs":[
        
      ],
      "metadata":{
        "jupyter":{
          "source_hidden":false,
          "outputs_hidden":false
        },
        "datalore":{
          "type":"CODE",
          "sheet_delimiter":false
        }
      }
    },
    {
      "cell_type":"code",
      "source":[
        "def analyze_confidence(df, algorithm):\n",
        "    confs = [i*0.1 for i in range(5, 11)]\n",
        "    n_rules = []\n",
        "    \n",
        "    for conf in confs:\n",
        "        print('Confidence: ', conf)\n",
        "        rules = association_rules(algorithm(df, min_support=0.004, max_len = 3), metric='confidence', min_threshold=conf)\n",
        "        display(rules)\n",
        "        n_rules.append(len(rules.index))\n",
        "        \n",
        "    rules_confidence_plot(n_rules, confs)"
      ],
      "execution_count":0,
      "outputs":[
        
      ],
      "metadata":{
        "jupyter":{
          "source_hidden":false,
          "outputs_hidden":false
        },
        "datalore":{
          "type":"CODE",
          "sheet_delimiter":false
        }
      }
    },
    {
      "cell_type":"markdown",
      "source":[
        "##### Apriory"
      ],
      "attachments":{
        
      },
      "metadata":{
        "jupyter":{
          "source_hidden":false,
          "outputs_hidden":false
        },
        "datalore":{
          "type":"MD",
          "sheet_delimiter":false
        }
      }
    },
    {
      "cell_type":"code",
      "source":[
        "analyze_support_lenght(data_frame, apriori)"
      ],
      "execution_count":0,
      "outputs":[
        
      ],
      "metadata":{
        "jupyter":{
          "source_hidden":false,
          "outputs_hidden":false
        },
        "datalore":{
          "type":"CODE",
          "sheet_delimiter":false
        }
      }
    },
    {
      "cell_type":"code",
      "source":[
        "analyze_confidence(data_frame, apriori)"
      ],
      "execution_count":0,
      "outputs":[
        
      ],
      "metadata":{
        "jupyter":{
          "source_hidden":false,
          "outputs_hidden":false
        },
        "datalore":{
          "type":"CODE",
          "sheet_delimiter":false
        }
      }
    },
    {
      "cell_type":"markdown",
      "source":[
        "##### FP-growth"
      ],
      "attachments":{
        
      },
      "metadata":{
        "jupyter":{
          "source_hidden":false,
          "outputs_hidden":false
        },
        "datalore":{
          "type":"MD",
          "sheet_delimiter":false
        }
      }
    },
    {
      "cell_type":"code",
      "source":[
        "analyze_support_lenght(data_frame, fpgrowth)"
      ],
      "execution_count":0,
      "outputs":[
        
      ],
      "metadata":{
        "jupyter":{
          "source_hidden":false,
          "outputs_hidden":false
        },
        "datalore":{
          "type":"CODE",
          "sheet_delimiter":false
        }
      }
    },
    {
      "cell_type":"code",
      "source":[
        "analyze_confidence(data_frame, fpgrowth)"
      ],
      "execution_count":0,
      "outputs":[
        
      ],
      "metadata":{
        "jupyter":{
          "source_hidden":false,
          "outputs_hidden":false
        },
        "datalore":{
          "type":"CODE",
          "sheet_delimiter":false
        }
      }
    },
    {
      "cell_type":"markdown",
      "source":[
        "### 4. Зробити висновки щодо впливу параметрiв алгоритмiв Apriori та FP-росту на знайденi множини АП."
      ],
      "attachments":{
        
      },
      "metadata":{
        "jupyter":{
          "source_hidden":false,
          "outputs_hidden":false
        },
        "datalore":{
          "type":"MD",
          "sheet_delimiter":false
        }
      }
    },
    {
      "cell_type":"markdown",
      "source":[
        "Оскільки максимально можлива підтримка є досить малою, то всі дослідження параметрів проводилися для достовірності >0.5\n",
        "\n",
        "1. З графаків залежності кількості прикладів від максимальної потужності частих наборів видно, що зі збільшенням мінімальної підтримки зменшується максимальна потужність.\n",
        "\n",
        "2. З графіків залежності кількості прикладів від мінімальної підтримки видно, що до значення support = 0.004 кількість прикладів різко падає, а починаючи від 0.004 спадає дуже повільно.\n",
        "\n",
        "Ці два пункти є досить інтуїтивно зрозумілі з самого означення підтримки та достовірності. Очевидно, що набори з великою потужністю будуть зустрічатися рідше, ніж малою потужністю. До того ж кількість наборів, які зустрічаються рідше є більшою, ніж наборів, які зустрічаються часто; звідси стрімкий спад кількості прикладів до пітримки при дуже малій підтриці, адже кожен набір зустрічається хоча б 1 раз (support = 0.001, цей варіант навіть не розлядався).\n",
        "\n",
        "3. Зі збільшенням достовірності зменшується кількість правил.\n",
        "4. Зі збільшенням  підтримки зменшується достовірність правил."
      ],
      "attachments":{
        
      },
      "metadata":{
        "jupyter":{
          "source_hidden":false,
          "outputs_hidden":false
        },
        "datalore":{
          "type":"MD",
          "sheet_delimiter":false
        }
      }
    },
    {
      "cell_type":"markdown",
      "source":[
        "### 5. Знайти значення прогнозу на основi побудованої множини правил."
      ],
      "attachments":{
        
      },
      "metadata":{
        "jupyter":{
          "source_hidden":false,
          "outputs_hidden":false
        },
        "datalore":{
          "type":"MD",
          "sheet_delimiter":false
        }
      }
    },
    {
      "cell_type":"code",
      "source":[
        "def make_predict(df, algorithm):\n",
        "    rules = association_rules(algorithm(df, min_support=0.002), metric='lift', min_threshold=1.0)\n",
        "    r=rules[rules['confidence']==1].sort_values('support', ascending=[False]).head()\n",
        "    display(r)\n",
        "    r=rules[rules['support'] > 0.01].sort_values('support', ascending=[False]).head()\n",
        "    display(r)\n",
        "    r=rules[rules['lift'] > 100].sort_values('lift', ascending=[False]).head(20)\n",
        "    display(r)\n",
        "    r=rules[(rules['support']>0.005)&(rules['confidence']>0.7)]\n",
        "    display(r)"
      ],
      "execution_count":0,
      "outputs":[
        
      ],
      "metadata":{
        "jupyter":{
          "source_hidden":false,
          "outputs_hidden":false
        },
        "datalore":{
          "type":"CODE",
          "sheet_delimiter":false
        }
      }
    },
    {
      "cell_type":"markdown",
      "source":[
        "##### Apriori"
      ],
      "attachments":{
        
      },
      "metadata":{
        "jupyter":{
          "source_hidden":false,
          "outputs_hidden":false
        },
        "datalore":{
          "type":"MD",
          "sheet_delimiter":false
        }
      }
    },
    {
      "cell_type":"code",
      "source":[
        "make_predict(data_frame, apriori)"
      ],
      "execution_count":1,
      "outputs":[
        {
          "ename":"NameError",
          "evalue":"NameError: name 'make_predict' is not defined",
          "traceback":[
            "\u001b[0;31m---------------------------------------------------------------------------",
            "Traceback (most recent call last)",
            "    at line 1 in <module>",
            "NameError: name 'make_predict' is not defined"
          ],
          "output_type":"error"
        }
      ],
      "metadata":{
        "jupyter":{
          "source_hidden":false,
          "outputs_hidden":false
        },
        "datalore":{
          "type":"CODE",
          "sheet_delimiter":false
        }
      }
    },
    {
      "cell_type":"markdown",
      "source":[
        "##### FP-growth"
      ],
      "attachments":{
        
      },
      "metadata":{
        "jupyter":{
          "source_hidden":false,
          "outputs_hidden":false
        },
        "datalore":{
          "type":"MD",
          "sheet_delimiter":false
        }
      }
    },
    {
      "cell_type":"code",
      "source":[
        "make_predict(data_frame, fpgrowth)"
      ],
      "execution_count":0,
      "outputs":[
        
      ],
      "metadata":{
        "jupyter":{
          "source_hidden":false,
          "outputs_hidden":false
        },
        "datalore":{
          "type":"CODE",
          "sheet_delimiter":false
        }
      }
    },
    {
      "cell_type":"markdown",
      "source":[
        "\n",
        "\n",
        "1. Як можна побачити з таблиць, багато правил має достовірність, рівну 1, що означає, що товар-\"antecedents\", купується лише з товаром-\"consequents\". Однак підтримка цих правил є дуже малою. Максимального значення пітримки (0.004184) при цьому набуває 5 правил, проте найбільше значення метрики 'lift' має правило:\n",
        "\n",
        "(4173) -> (2975)\n",
        "\n",
        "2. Оскільки обсяг пропозиції товарів (>49683, з них 4438 куплено хоча б 1 раз) значно перевищує кількість покупок (956 успішних замовлень, в сумі 9720 куплених товарів), при чому кількість товарів в одному замовленні є невеликою, то максимальна можлива підтримка є досить малою. Максимального значення (0.025105) набуває 2 правила, але вищу достовірність має правило:\n",
        "\n",
        "(1953) -> (2221)\n",
        "\n",
        "3. Максимального значення метрики 'lift' набуває багато правил, які при цьому мають максимальну достовірність, проте дуже малу підтримку (зустрічаються ~2 рази з 956).\n",
        "\n",
        "\n",
        "* Правило, яке має не максимальні, але відносно високі метрики:\n",
        "\n",
        "(2313, 1953) -> (2221)\n",
        "\n",
        "\n",
        "Зважаючи на велику різницю між пропозицією та замовленями, вибрати 1 найточніше правило не можна, бо якщо правила зустрічаються частіше, то мають малу достовірність, а якщо мають максимальну достовірність, то зустрічаються <5 раз."
      ],
      "attachments":{
        
      },
      "metadata":{
        "jupyter":{
          "source_hidden":false,
          "outputs_hidden":false
        },
        "datalore":{
          "type":"MD",
          "sheet_delimiter":false
        }
      }
    },
    {
      "cell_type":"markdown",
      "source":[
        "### 6. Порiвняти результати, отриманi алгоритмами Apriori та FP-росту."
      ],
      "attachments":{
        
      },
      "metadata":{
        "jupyter":{
          "source_hidden":false,
          "outputs_hidden":false
        },
        "datalore":{
          "type":"MD",
          "sheet_delimiter":false
        }
      }
    },
    {
      "cell_type":"markdown",
      "source":[
        "З побудованих в ході роботи таблиць та графіків видно, що обидва алгоритми повертають одинаковий результат. Оскільки двома алгоритмами опрацьовувалися одинакові початкові дані, це свідчить про коректність роботи програми."
      ],
      "attachments":{
        
      },
      "metadata":{
        "jupyter":{
          "source_hidden":false,
          "outputs_hidden":false
        },
        "datalore":{
          "type":"MD",
          "sheet_delimiter":false
        }
      }
    },
    {
      "cell_type":"code",
      "source":[
        
      ],
      "execution_count":0,
      "outputs":[
        
      ],
      "metadata":{
        "jupyter":{
          "source_hidden":false,
          "outputs_hidden":false
        },
        "datalore":{
          "type":"CODE",
          "sheet_delimiter":false
        }
      }
    }
  ],
  "metadata":{
    "datalore":{
      "version":1,
      "computation_mode":"JUPYTER",
      "package_manager":"pip",
      "base_environment":"default",
      "packages":[
        
      ]
    }
  },
  "nbformat":4,
  "nbformat_minor":4
}